{
 "cells": [
  {
   "cell_type": "markdown",
   "metadata": {},
   "source": [
    "# Chapter 1 Exercises\n",
    "\n",
    "Some of these exercises require operations not covered in the notebook.  You will have to look at [the documentation](https://pytorch.org/docs/) (on purpose!)"
   ]
  },
  {
   "cell_type": "markdown",
   "metadata": {},
   "source": [
    "#### Exercise 1-0\n",
    "\n",
    "Import necessary libraries and set global variables."
   ]
  },
  {
   "cell_type": "code",
   "execution_count": 1,
   "metadata": {},
   "outputs": [
    {
     "data": {
      "text/plain": [
       "<torch._C.Generator at 0x7f46a71ef0b0>"
      ]
     },
     "execution_count": 1,
     "metadata": {},
     "output_type": "execute_result"
    }
   ],
   "source": [
    "# Import necessary libraries\n",
    "import torch\n",
    "# Set the random seed for reproducibility\n",
    "torch.manual_seed(1234)"
   ]
  },
  {
   "cell_type": "markdown",
   "metadata": {},
   "source": [
    "#### Exercise 1-1\n",
    "\n",
    "Create a random 3x3 2D tensor named `a` using a function from the PyTorch library. Then, add a dimension of size 1 at the 0th axis. "
   ]
  },
  {
   "cell_type": "code",
   "execution_count": 2,
   "metadata": {},
   "outputs": [],
   "source": [
    "# Student Solution for Exercise 1-1\n",
    "a = None  # Replace `None` with your code to create the tensor.\n",
    "a = None  # Replace `None` with your code to reshape the tensor.\n",
    "if a is not None:\n",
    "    print(a)\n",
    "    print(a.shape)"
   ]
  },
  {
   "cell_type": "code",
   "execution_count": 3,
   "metadata": {},
   "outputs": [],
   "source": [
    "# Assertions for Exercise 1-1\n",
    "if a is not None:\n",
    "    assert torch.all(a == torch.tensor([[[1, 2, 3], [4, 5, 6], [7, 8, 9]]])), f\"Expected tensor [[1, 2, 3], [4, 5, 6], [7, 8, 9]], but got {a}\"\n",
    "    assert a.ndimension() == 3, f\"Expected number of dimensions to be 3, but got {a.ndimension()}\""
   ]
  },
  {
   "cell_type": "markdown",
   "metadata": {},
   "source": [
    "##### Solution for Exercise 1-1\n",
    "\n",
    "<details>\n",
    "  <summary>Click to reveal</summary>\n",
    "  \n",
    "```python\n",
    "a = torch.rand(3,3)\n",
    "a = a.unsqueeze(0)\n",
    "```\n",
    "</details>"
   ]
  },
  {
   "cell_type": "markdown",
   "metadata": {},
   "source": [
    "#### Exercise 1-2\n",
    "\n",
    "Remove the extra dimension you just added to the previous tensor."
   ]
  },
  {
   "cell_type": "code",
   "execution_count": 4,
   "metadata": {},
   "outputs": [],
   "source": [
    "# Student Solution for Exercise 1-2\n",
    "a = None  # Replace `None` with your code to reshape the tensor.\n",
    "if a is not None:\n",
    "    print(a)\n",
    "    print(a.shape)"
   ]
  },
  {
   "cell_type": "code",
   "execution_count": 5,
   "metadata": {},
   "outputs": [],
   "source": [
    "# Assertions for Exercise 1-2\n",
    "if a is not None:\n",
    "    assert a.shape == (3, 3), f\"Expected shape (3, 3), but got {a.shape}\"\n",
    "    assert a.ndimension() == 2, f\"Expected number of dimensions to be 2, but got {a.ndimension()}\""
   ]
  },
  {
   "cell_type": "markdown",
   "metadata": {},
   "source": [
    "##### Solution for Exercise 1-2\n",
    "\n",
    "<details>\n",
    "  <summary>Click to reveal</summary>\n",
    "  \n",
    "```python\n",
    "a = a.squeeze(0)\n",
    "```\n"
   ]
  },
  {
   "cell_type": "markdown",
   "metadata": {},
   "source": [
    "#### Exercise 1-3\n",
    "\n",
    "Create a random tensor of shape 5x3 in the interval [3, 7]"
   ]
  },
  {
   "cell_type": "code",
   "execution_count": 6,
   "metadata": {},
   "outputs": [],
   "source": [
    "# Student Solution for Exercise 1-3\n",
    "a = None  # Replace `None` with your code to create the tensor.\n",
    "if a is not None:\n",
    "    print(a)\n",
    "    print(a.shape)"
   ]
  },
  {
   "cell_type": "code",
   "execution_count": 7,
   "metadata": {},
   "outputs": [],
   "source": [
    "# Assertions for Exercise 1-3\n",
    "if a is not None:\n",
    "    assert a.shape == (5, 3), f\"Expected shape (5, 3), but got {a.shape}\"\n",
    "    assert a.ndimension() == 2, f\"Expected number of dimensions to be 2, but got {a.ndimension()}\""
   ]
  },
  {
   "cell_type": "markdown",
   "metadata": {},
   "source": [
    "##### Solution for Exercise 1-4\n",
    "\n",
    "<details>\n",
    "  <summary>Click to reveal</summary>\n",
    "  \n",
    "```python\n",
    "a = 3 + torch.rand(5, 3) * (7 - 3)\n",
    "```"
   ]
  },
  {
   "cell_type": "markdown",
   "metadata": {},
   "source": [
    "#### Exercise 1-4\n",
    "\n",
    "Create a 3-by-3 random tensor with values from a normal distribution (mean=0, std=1)."
   ]
  },
  {
   "cell_type": "code",
   "execution_count": 8,
   "metadata": {},
   "outputs": [],
   "source": [
    "# Student Solution for Exercise 1-4\n",
    "a = None  # Replace `None` with your code to create the tensor.\n",
    "a = None  # Replace `None` with your code to calculate the mean and standard deviation of the tensor.\n",
    "if a is not None:\n",
    "    print(a)\n",
    "    mean, std = a.mean().item(), a.std().item()\n",
    "    print(f\"mean: {mean}\")\n",
    "    print(f\"std: {std}\")"
   ]
  },
  {
   "cell_type": "code",
   "execution_count": 9,
   "metadata": {},
   "outputs": [],
   "source": [
    "# Assertions for Exercise 1-4\n",
    "if a is not None:\n",
    "    assert a.shape == (3, 3), f\"Expected shape (3, 3), but got {a.shape}\"\n",
    "    assert a.dtype == torch.float32, f\"Expected dtype torch.float32, but got {a.dtype}\"\n",
    "    assert abs(mean) < 0.2, f\"Expected mean close to 0, but got {mean:.4f}\"\n",
    "    assert abs(std - 1) < 0.2, f\"Expected std close to 1, but got {std:.4f}\""
   ]
  },
  {
   "cell_type": "markdown",
   "metadata": {},
   "source": [
    "##### Solution for Exercise 1-4\n",
    "\n",
    "<details>\n",
    "  <summary>Click to reveal</summary>\n",
    "  \n",
    "```python\n",
    "a = torch.rand(3,3)\n",
    "a.normal_(mean=0, std=1)\n",
    "```\n"
   ]
  },
  {
   "cell_type": "markdown",
   "metadata": {},
   "source": [
    "#### Exercise 1-5\n",
    "\n",
    "Retrieve the indexes of all the non-zero elements in the tensor [1, 1, 1, 0, 1]."
   ]
  },
  {
   "cell_type": "code",
   "execution_count": 10,
   "metadata": {},
   "outputs": [],
   "source": [
    "# Student Solution for Exercise 1-5\n",
    "a = None  # Replace `None` with your code to create the tensor.\n",
    "a = None  # Replace `None` with your code to retrieve non-zero elements.\n",
    "if a is not None:\n",
    "    print(a)\n",
    "    print(a.shape)"
   ]
  },
  {
   "cell_type": "code",
   "execution_count": 11,
   "metadata": {},
   "outputs": [],
   "source": [
    "# Assertions for Exercise 1-5\n",
    "if a is not None:\n",
    "    assert a.shape == (4, 1), f\"Expected shape (4, 1), but got {a.shape}\"\n",
    "    assert a.ndimension() == 2, f\"Expected number of dimensions to be 2, but got {a.ndimension()}\""
   ]
  },
  {
   "cell_type": "markdown",
   "metadata": {},
   "source": [
    "##### Solution for Exercise 1-5\n",
    "\n",
    "<details>\n",
    "  <summary>Click to reveal</summary>\n",
    "  \n",
    "```python\n",
    "a = torch.tensor([1, 1, 1, 0, 1])\n",
    "a = a.nonzero()\n",
    "```\n",
    "</details>"
   ]
  },
  {
   "cell_type": "markdown",
   "metadata": {},
   "source": [
    "#### Exercise 1-6\n",
    "\n",
    "Create a random tensor of size 3 by 1 and then horizontally stack 4 copies together."
   ]
  },
  {
   "cell_type": "code",
   "execution_count": 12,
   "metadata": {},
   "outputs": [],
   "source": [
    "# Student Solution for Exercise 1-6\n",
    "a = None  # Replace `None` with your code to create the tensor.\n",
    "a = None  # Replace `None` with your code to stack copies.\n",
    "if a is not None:\n",
    "    print(a)\n",
    "    print(a.shape)"
   ]
  },
  {
   "cell_type": "code",
   "execution_count": 13,
   "metadata": {},
   "outputs": [],
   "source": [
    "# Assertions for Exercise 1-6\n",
    "if a is not None:\n",
    "    assert a.shape == (3, 4), f\"Expected shape (3, 4), but got {a.shape}\"\n",
    "    assert a.ndimension() == 2, f\"Expected number of dimensions to be 2, but got {a.ndimension()}\""
   ]
  },
  {
   "cell_type": "markdown",
   "metadata": {},
   "source": [
    "##### Solution for Exercise 1-6\n",
    "\n",
    "<details>\n",
    "  <summary>Click to reveal</summary>\n",
    "  \n",
    "```python\n",
    "a = torch.rand(3, 1)\n",
    "a = a.expand(3, 4)\n",
    "```\n",
    "</details>"
   ]
  },
  {
   "cell_type": "markdown",
   "metadata": {},
   "source": [
    "#### Exercise 1-7\n",
    "\n",
    "Return the batch matrix-matrix product of two random 3 dimensional matrices of shape 3 by 4 by 5 and 3 by 5 by 4."
   ]
  },
  {
   "cell_type": "code",
   "execution_count": 14,
   "metadata": {},
   "outputs": [],
   "source": [
    "# Student Solution for Exercise 1-7\n",
    "a = None  # Replace `None` with your code to create Tensor A.\n",
    "b = None  # Replace `None` with your code to create Tensor B.\n",
    "c = None  # Replace `None` with your code to batch product A & B.\n",
    "if c is not None:\n",
    "    print(c)\n",
    "    print(c.shape)"
   ]
  },
  {
   "cell_type": "code",
   "execution_count": 15,
   "metadata": {},
   "outputs": [],
   "source": [
    "# Assertions for Exercise 1-7\n",
    "if c is not None:\n",
    "    assert c.shape == (3, 4, 4), f\"Expected shape (3, 4, 4), but got {a.shape}\"\n",
    "    assert a.ndimension() == 3, f\"Expected number of dimensions to be 3, but got {a.ndimension()}\""
   ]
  },
  {
   "cell_type": "markdown",
   "metadata": {},
   "source": [
    "##### Solution for Exercise 1-7\n",
    "\n",
    "<details>\n",
    "  <summary>Click to reveal</summary>\n",
    "  \n",
    "```python\n",
    "a = torch.rand(3, 4, 5)\n",
    "b = torch.rand(3, 5, 4)\n",
    "c = torch.bmm(a, b)\n",
    "```\n",
    "</details>"
   ]
  },
  {
   "cell_type": "markdown",
   "metadata": {},
   "source": [
    "#### Exercise 1-8\n",
    "\n",
    "Return the batch matrix-matrix product of a random, 3x4x5 3D matrix and a random, 5x4 2D matrix."
   ]
  },
  {
   "cell_type": "code",
   "execution_count": 16,
   "metadata": {},
   "outputs": [],
   "source": [
    "# Student Solution for Exercise 1-8\n",
    "a = None  # Replace `None` with your code to create Tensor A.\n",
    "b = None  # Replace `None` with your code to create Tensor B.\n",
    "c = None  # Replace `None` with your code to batch A & B.\n",
    "if c is not None:\n",
    "    print(c)\n",
    "    print(c.shape)"
   ]
  },
  {
   "cell_type": "code",
   "execution_count": 17,
   "metadata": {},
   "outputs": [],
   "source": [
    "# Assertions for Exercise 1-8\n",
    "if c is not None:\n",
    "    assert c.shape == (3, 4, 4), f\"Expected shape (3, 4, 4), but got {a.shape}\"\n",
    "    assert a.ndimension() == 3, f\"Expected number of dimensions to be 3, but got {a.ndimension()}\""
   ]
  },
  {
   "cell_type": "markdown",
   "metadata": {},
   "source": [
    "##### Solution for Exercise 1-8\n",
    "\n",
    "<details>\n",
    "  <summary>Click to reveal</summary>\n",
    "  \n",
    "  ```python\n",
    "  a = torch.rand(3, 4, 5)\n",
    "  b = torch.rand(5, 4)\n",
    "  c = torch.bmm(a, b.unsqueeze(0).expand(a.size(0), *b.size()))\n",
    "  ```\n",
    "</details>"
   ]
  },
  {
   "cell_type": "markdown",
   "metadata": {},
   "source": [
    "## End of Exercises"
   ]
  }
 ],
 "metadata": {
  "kernelspec": {
   "display_name": "nlpbook",
   "language": "python",
   "name": "python3"
  },
  "language_info": {
   "codemirror_mode": {
    "name": "ipython",
    "version": 3
   },
   "file_extension": ".py",
   "mimetype": "text/x-python",
   "name": "python",
   "nbconvert_exporter": "python",
   "pygments_lexer": "ipython3",
   "version": "3.13.0"
  }
 },
 "nbformat": 4,
 "nbformat_minor": 2
}
